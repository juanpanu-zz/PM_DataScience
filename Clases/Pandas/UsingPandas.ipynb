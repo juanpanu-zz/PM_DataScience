{
 "metadata": {
  "language_info": {
   "codemirror_mode": {
    "name": "ipython",
    "version": 3
   },
   "file_extension": ".py",
   "mimetype": "text/x-python",
   "name": "python",
   "nbconvert_exporter": "python",
   "pygments_lexer": "ipython3",
   "version": "3.8.5-final"
  },
  "orig_nbformat": 2,
  "kernelspec": {
   "name": "python_defaultSpec_1597695067092",
   "display_name": "Python 3.8.5 64-bit"
  }
 },
 "nbformat": 4,
 "nbformat_minor": 2,
 "cells": [
  {
   "cell_type": "code",
   "execution_count": 2,
   "metadata": {},
   "outputs": [],
   "source": [
    "import pandas as pd\n",
    "import numpy as np\n",
    "import seaborn as sns"
   ]
  },
  {
   "cell_type": "code",
   "execution_count": 3,
   "metadata": {},
   "outputs": [
    {
     "output_type": "execute_result",
     "data": {
      "text/plain": "     total_bill   tip     sex smoker   day    time  size\n0         16.99  1.01  Female     No   Sun  Dinner     2\n1         10.34  1.66    Male     No   Sun  Dinner     3\n2         21.01  3.50    Male     No   Sun  Dinner     3\n3         23.68  3.31    Male     No   Sun  Dinner     2\n4         24.59  3.61  Female     No   Sun  Dinner     4\n..          ...   ...     ...    ...   ...     ...   ...\n239       29.03  5.92    Male     No   Sat  Dinner     3\n240       27.18  2.00  Female    Yes   Sat  Dinner     2\n241       22.67  2.00    Male    Yes   Sat  Dinner     2\n242       17.82  1.75    Male     No   Sat  Dinner     2\n243       18.78  3.00  Female     No  Thur  Dinner     2\n\n[244 rows x 7 columns]",
      "text/html": "<div>\n<style scoped>\n    .dataframe tbody tr th:only-of-type {\n        vertical-align: middle;\n    }\n\n    .dataframe tbody tr th {\n        vertical-align: top;\n    }\n\n    .dataframe thead th {\n        text-align: right;\n    }\n</style>\n<table border=\"1\" class=\"dataframe\">\n  <thead>\n    <tr style=\"text-align: right;\">\n      <th></th>\n      <th>total_bill</th>\n      <th>tip</th>\n      <th>sex</th>\n      <th>smoker</th>\n      <th>day</th>\n      <th>time</th>\n      <th>size</th>\n    </tr>\n  </thead>\n  <tbody>\n    <tr>\n      <th>0</th>\n      <td>16.99</td>\n      <td>1.01</td>\n      <td>Female</td>\n      <td>No</td>\n      <td>Sun</td>\n      <td>Dinner</td>\n      <td>2</td>\n    </tr>\n    <tr>\n      <th>1</th>\n      <td>10.34</td>\n      <td>1.66</td>\n      <td>Male</td>\n      <td>No</td>\n      <td>Sun</td>\n      <td>Dinner</td>\n      <td>3</td>\n    </tr>\n    <tr>\n      <th>2</th>\n      <td>21.01</td>\n      <td>3.50</td>\n      <td>Male</td>\n      <td>No</td>\n      <td>Sun</td>\n      <td>Dinner</td>\n      <td>3</td>\n    </tr>\n    <tr>\n      <th>3</th>\n      <td>23.68</td>\n      <td>3.31</td>\n      <td>Male</td>\n      <td>No</td>\n      <td>Sun</td>\n      <td>Dinner</td>\n      <td>2</td>\n    </tr>\n    <tr>\n      <th>4</th>\n      <td>24.59</td>\n      <td>3.61</td>\n      <td>Female</td>\n      <td>No</td>\n      <td>Sun</td>\n      <td>Dinner</td>\n      <td>4</td>\n    </tr>\n    <tr>\n      <th>...</th>\n      <td>...</td>\n      <td>...</td>\n      <td>...</td>\n      <td>...</td>\n      <td>...</td>\n      <td>...</td>\n      <td>...</td>\n    </tr>\n    <tr>\n      <th>239</th>\n      <td>29.03</td>\n      <td>5.92</td>\n      <td>Male</td>\n      <td>No</td>\n      <td>Sat</td>\n      <td>Dinner</td>\n      <td>3</td>\n    </tr>\n    <tr>\n      <th>240</th>\n      <td>27.18</td>\n      <td>2.00</td>\n      <td>Female</td>\n      <td>Yes</td>\n      <td>Sat</td>\n      <td>Dinner</td>\n      <td>2</td>\n    </tr>\n    <tr>\n      <th>241</th>\n      <td>22.67</td>\n      <td>2.00</td>\n      <td>Male</td>\n      <td>Yes</td>\n      <td>Sat</td>\n      <td>Dinner</td>\n      <td>2</td>\n    </tr>\n    <tr>\n      <th>242</th>\n      <td>17.82</td>\n      <td>1.75</td>\n      <td>Male</td>\n      <td>No</td>\n      <td>Sat</td>\n      <td>Dinner</td>\n      <td>2</td>\n    </tr>\n    <tr>\n      <th>243</th>\n      <td>18.78</td>\n      <td>3.00</td>\n      <td>Female</td>\n      <td>No</td>\n      <td>Thur</td>\n      <td>Dinner</td>\n      <td>2</td>\n    </tr>\n  </tbody>\n</table>\n<p>244 rows × 7 columns</p>\n</div>"
     },
     "metadata": {},
     "execution_count": 3
    }
   ],
   "source": [
    "df = sns.load_dataset('tips')\n",
    "df"
   ]
  },
  {
   "cell_type": "code",
   "execution_count": 4,
   "metadata": {},
   "outputs": [
    {
     "output_type": "execute_result",
     "data": {
      "text/plain": "        total_bill         tip   sex smoker  day    time        size\ncount   244.000000  244.000000   244    244  244     244  244.000000\nunique         NaN         NaN     2      2    4       2         NaN\ntop            NaN         NaN  Male     No  Sat  Dinner         NaN\nfreq           NaN         NaN   157    151   87     176         NaN\nmean     19.785943    2.998279   NaN    NaN  NaN     NaN    2.569672\nstd       8.902412    1.383638   NaN    NaN  NaN     NaN    0.951100\nmin       3.070000    1.000000   NaN    NaN  NaN     NaN    1.000000\n25%      13.347500    2.000000   NaN    NaN  NaN     NaN    2.000000\n50%      17.795000    2.900000   NaN    NaN  NaN     NaN    2.000000\n75%      24.127500    3.562500   NaN    NaN  NaN     NaN    3.000000\nmax      50.810000   10.000000   NaN    NaN  NaN     NaN    6.000000",
      "text/html": "<div>\n<style scoped>\n    .dataframe tbody tr th:only-of-type {\n        vertical-align: middle;\n    }\n\n    .dataframe tbody tr th {\n        vertical-align: top;\n    }\n\n    .dataframe thead th {\n        text-align: right;\n    }\n</style>\n<table border=\"1\" class=\"dataframe\">\n  <thead>\n    <tr style=\"text-align: right;\">\n      <th></th>\n      <th>total_bill</th>\n      <th>tip</th>\n      <th>sex</th>\n      <th>smoker</th>\n      <th>day</th>\n      <th>time</th>\n      <th>size</th>\n    </tr>\n  </thead>\n  <tbody>\n    <tr>\n      <th>count</th>\n      <td>244.000000</td>\n      <td>244.000000</td>\n      <td>244</td>\n      <td>244</td>\n      <td>244</td>\n      <td>244</td>\n      <td>244.000000</td>\n    </tr>\n    <tr>\n      <th>unique</th>\n      <td>NaN</td>\n      <td>NaN</td>\n      <td>2</td>\n      <td>2</td>\n      <td>4</td>\n      <td>2</td>\n      <td>NaN</td>\n    </tr>\n    <tr>\n      <th>top</th>\n      <td>NaN</td>\n      <td>NaN</td>\n      <td>Male</td>\n      <td>No</td>\n      <td>Sat</td>\n      <td>Dinner</td>\n      <td>NaN</td>\n    </tr>\n    <tr>\n      <th>freq</th>\n      <td>NaN</td>\n      <td>NaN</td>\n      <td>157</td>\n      <td>151</td>\n      <td>87</td>\n      <td>176</td>\n      <td>NaN</td>\n    </tr>\n    <tr>\n      <th>mean</th>\n      <td>19.785943</td>\n      <td>2.998279</td>\n      <td>NaN</td>\n      <td>NaN</td>\n      <td>NaN</td>\n      <td>NaN</td>\n      <td>2.569672</td>\n    </tr>\n    <tr>\n      <th>std</th>\n      <td>8.902412</td>\n      <td>1.383638</td>\n      <td>NaN</td>\n      <td>NaN</td>\n      <td>NaN</td>\n      <td>NaN</td>\n      <td>0.951100</td>\n    </tr>\n    <tr>\n      <th>min</th>\n      <td>3.070000</td>\n      <td>1.000000</td>\n      <td>NaN</td>\n      <td>NaN</td>\n      <td>NaN</td>\n      <td>NaN</td>\n      <td>1.000000</td>\n    </tr>\n    <tr>\n      <th>25%</th>\n      <td>13.347500</td>\n      <td>2.000000</td>\n      <td>NaN</td>\n      <td>NaN</td>\n      <td>NaN</td>\n      <td>NaN</td>\n      <td>2.000000</td>\n    </tr>\n    <tr>\n      <th>50%</th>\n      <td>17.795000</td>\n      <td>2.900000</td>\n      <td>NaN</td>\n      <td>NaN</td>\n      <td>NaN</td>\n      <td>NaN</td>\n      <td>2.000000</td>\n    </tr>\n    <tr>\n      <th>75%</th>\n      <td>24.127500</td>\n      <td>3.562500</td>\n      <td>NaN</td>\n      <td>NaN</td>\n      <td>NaN</td>\n      <td>NaN</td>\n      <td>3.000000</td>\n    </tr>\n    <tr>\n      <th>max</th>\n      <td>50.810000</td>\n      <td>10.000000</td>\n      <td>NaN</td>\n      <td>NaN</td>\n      <td>NaN</td>\n      <td>NaN</td>\n      <td>6.000000</td>\n    </tr>\n  </tbody>\n</table>\n</div>"
     },
     "metadata": {},
     "execution_count": 4
    }
   ],
   "source": [
    "df.describe(include='all')"
   ]
  },
  {
   "cell_type": "code",
   "execution_count": 5,
   "metadata": {},
   "outputs": [
    {
     "output_type": "execute_result",
     "data": {
      "text/plain": "Sat     87\nSun     76\nThur    62\nFri     19\nName: day, dtype: int64"
     },
     "metadata": {},
     "execution_count": 5
    }
   ],
   "source": [
    "df['day'].value_counts() "
   ]
  },
  {
   "cell_type": "code",
   "execution_count": 6,
   "metadata": {},
   "outputs": [
    {
     "output_type": "execute_result",
     "data": {
      "text/plain": "Sat     35.655738\nSun     31.147541\nThur    25.409836\nFri      7.786885\nName: day, dtype: float64"
     },
     "metadata": {},
     "execution_count": 6
    }
   ],
   "source": [
    "df['day'].value_counts() / df['day'].value_counts().sum()*100"
   ]
  },
  {
   "cell_type": "code",
   "execution_count": 7,
   "metadata": {},
   "outputs": [
    {
     "output_type": "execute_result",
     "data": {
      "text/plain": "        total_bill       tip      size\nsex                                   \nMale     20.744076  3.089618  2.630573\nFemale   18.056897  2.833448  2.459770",
      "text/html": "<div>\n<style scoped>\n    .dataframe tbody tr th:only-of-type {\n        vertical-align: middle;\n    }\n\n    .dataframe tbody tr th {\n        vertical-align: top;\n    }\n\n    .dataframe thead th {\n        text-align: right;\n    }\n</style>\n<table border=\"1\" class=\"dataframe\">\n  <thead>\n    <tr style=\"text-align: right;\">\n      <th></th>\n      <th>total_bill</th>\n      <th>tip</th>\n      <th>size</th>\n    </tr>\n    <tr>\n      <th>sex</th>\n      <th></th>\n      <th></th>\n      <th></th>\n    </tr>\n  </thead>\n  <tbody>\n    <tr>\n      <th>Male</th>\n      <td>20.744076</td>\n      <td>3.089618</td>\n      <td>2.630573</td>\n    </tr>\n    <tr>\n      <th>Female</th>\n      <td>18.056897</td>\n      <td>2.833448</td>\n      <td>2.459770</td>\n    </tr>\n  </tbody>\n</table>\n</div>"
     },
     "metadata": {},
     "execution_count": 7
    }
   ],
   "source": [
    "df.groupby('sex').mean()"
   ]
  },
  {
   "cell_type": "code",
   "execution_count": 8,
   "metadata": {},
   "outputs": [
    {
     "output_type": "execute_result",
     "data": {
      "text/plain": "     total_bill   tip     sex smoker   day    time  size  prct_tip\n0         16.99  1.01  Female     No   Sun  Dinner     2  0.059447\n1         10.34  1.66    Male     No   Sun  Dinner     3  0.160542\n2         21.01  3.50    Male     No   Sun  Dinner     3  0.166587\n3         23.68  3.31    Male     No   Sun  Dinner     2  0.139780\n4         24.59  3.61  Female     No   Sun  Dinner     4  0.146808\n..          ...   ...     ...    ...   ...     ...   ...       ...\n239       29.03  5.92    Male     No   Sat  Dinner     3  0.203927\n240       27.18  2.00  Female    Yes   Sat  Dinner     2  0.073584\n241       22.67  2.00    Male    Yes   Sat  Dinner     2  0.088222\n242       17.82  1.75    Male     No   Sat  Dinner     2  0.098204\n243       18.78  3.00  Female     No  Thur  Dinner     2  0.159744\n\n[244 rows x 8 columns]",
      "text/html": "<div>\n<style scoped>\n    .dataframe tbody tr th:only-of-type {\n        vertical-align: middle;\n    }\n\n    .dataframe tbody tr th {\n        vertical-align: top;\n    }\n\n    .dataframe thead th {\n        text-align: right;\n    }\n</style>\n<table border=\"1\" class=\"dataframe\">\n  <thead>\n    <tr style=\"text-align: right;\">\n      <th></th>\n      <th>total_bill</th>\n      <th>tip</th>\n      <th>sex</th>\n      <th>smoker</th>\n      <th>day</th>\n      <th>time</th>\n      <th>size</th>\n      <th>prct_tip</th>\n    </tr>\n  </thead>\n  <tbody>\n    <tr>\n      <th>0</th>\n      <td>16.99</td>\n      <td>1.01</td>\n      <td>Female</td>\n      <td>No</td>\n      <td>Sun</td>\n      <td>Dinner</td>\n      <td>2</td>\n      <td>0.059447</td>\n    </tr>\n    <tr>\n      <th>1</th>\n      <td>10.34</td>\n      <td>1.66</td>\n      <td>Male</td>\n      <td>No</td>\n      <td>Sun</td>\n      <td>Dinner</td>\n      <td>3</td>\n      <td>0.160542</td>\n    </tr>\n    <tr>\n      <th>2</th>\n      <td>21.01</td>\n      <td>3.50</td>\n      <td>Male</td>\n      <td>No</td>\n      <td>Sun</td>\n      <td>Dinner</td>\n      <td>3</td>\n      <td>0.166587</td>\n    </tr>\n    <tr>\n      <th>3</th>\n      <td>23.68</td>\n      <td>3.31</td>\n      <td>Male</td>\n      <td>No</td>\n      <td>Sun</td>\n      <td>Dinner</td>\n      <td>2</td>\n      <td>0.139780</td>\n    </tr>\n    <tr>\n      <th>4</th>\n      <td>24.59</td>\n      <td>3.61</td>\n      <td>Female</td>\n      <td>No</td>\n      <td>Sun</td>\n      <td>Dinner</td>\n      <td>4</td>\n      <td>0.146808</td>\n    </tr>\n    <tr>\n      <th>...</th>\n      <td>...</td>\n      <td>...</td>\n      <td>...</td>\n      <td>...</td>\n      <td>...</td>\n      <td>...</td>\n      <td>...</td>\n      <td>...</td>\n    </tr>\n    <tr>\n      <th>239</th>\n      <td>29.03</td>\n      <td>5.92</td>\n      <td>Male</td>\n      <td>No</td>\n      <td>Sat</td>\n      <td>Dinner</td>\n      <td>3</td>\n      <td>0.203927</td>\n    </tr>\n    <tr>\n      <th>240</th>\n      <td>27.18</td>\n      <td>2.00</td>\n      <td>Female</td>\n      <td>Yes</td>\n      <td>Sat</td>\n      <td>Dinner</td>\n      <td>2</td>\n      <td>0.073584</td>\n    </tr>\n    <tr>\n      <th>241</th>\n      <td>22.67</td>\n      <td>2.00</td>\n      <td>Male</td>\n      <td>Yes</td>\n      <td>Sat</td>\n      <td>Dinner</td>\n      <td>2</td>\n      <td>0.088222</td>\n    </tr>\n    <tr>\n      <th>242</th>\n      <td>17.82</td>\n      <td>1.75</td>\n      <td>Male</td>\n      <td>No</td>\n      <td>Sat</td>\n      <td>Dinner</td>\n      <td>2</td>\n      <td>0.098204</td>\n    </tr>\n    <tr>\n      <th>243</th>\n      <td>18.78</td>\n      <td>3.00</td>\n      <td>Female</td>\n      <td>No</td>\n      <td>Thur</td>\n      <td>Dinner</td>\n      <td>2</td>\n      <td>0.159744</td>\n    </tr>\n  </tbody>\n</table>\n<p>244 rows × 8 columns</p>\n</div>"
     },
     "metadata": {},
     "execution_count": 8
    }
   ],
   "source": [
    "df['prct_tip'] = df['tip']/df['total_bill']\n",
    "df"
   ]
  },
  {
   "cell_type": "code",
   "execution_count": 9,
   "metadata": {},
   "outputs": [
    {
     "output_type": "execute_result",
     "data": {
      "text/plain": "        total_bill       tip      size  prct_tip\nsex                                             \nMale     20.744076  3.089618  2.630573  0.157651\nFemale   18.056897  2.833448  2.459770  0.166491",
      "text/html": "<div>\n<style scoped>\n    .dataframe tbody tr th:only-of-type {\n        vertical-align: middle;\n    }\n\n    .dataframe tbody tr th {\n        vertical-align: top;\n    }\n\n    .dataframe thead th {\n        text-align: right;\n    }\n</style>\n<table border=\"1\" class=\"dataframe\">\n  <thead>\n    <tr style=\"text-align: right;\">\n      <th></th>\n      <th>total_bill</th>\n      <th>tip</th>\n      <th>size</th>\n      <th>prct_tip</th>\n    </tr>\n    <tr>\n      <th>sex</th>\n      <th></th>\n      <th></th>\n      <th></th>\n      <th></th>\n    </tr>\n  </thead>\n  <tbody>\n    <tr>\n      <th>Male</th>\n      <td>20.744076</td>\n      <td>3.089618</td>\n      <td>2.630573</td>\n      <td>0.157651</td>\n    </tr>\n    <tr>\n      <th>Female</th>\n      <td>18.056897</td>\n      <td>2.833448</td>\n      <td>2.459770</td>\n      <td>0.166491</td>\n    </tr>\n  </tbody>\n</table>\n</div>"
     },
     "metadata": {},
     "execution_count": 9
    }
   ],
   "source": [
    "df.groupby('sex').mean()"
   ]
  },
  {
   "cell_type": "code",
   "execution_count": 10,
   "metadata": {},
   "outputs": [
    {
     "output_type": "execute_result",
     "data": {
      "text/plain": "        total_bill   tip  size  prct_tip\nsex                                     \nMale         18.35  3.00     2  0.153492\nFemale       16.40  2.75     2  0.155581",
      "text/html": "<div>\n<style scoped>\n    .dataframe tbody tr th:only-of-type {\n        vertical-align: middle;\n    }\n\n    .dataframe tbody tr th {\n        vertical-align: top;\n    }\n\n    .dataframe thead th {\n        text-align: right;\n    }\n</style>\n<table border=\"1\" class=\"dataframe\">\n  <thead>\n    <tr style=\"text-align: right;\">\n      <th></th>\n      <th>total_bill</th>\n      <th>tip</th>\n      <th>size</th>\n      <th>prct_tip</th>\n    </tr>\n    <tr>\n      <th>sex</th>\n      <th></th>\n      <th></th>\n      <th></th>\n      <th></th>\n    </tr>\n  </thead>\n  <tbody>\n    <tr>\n      <th>Male</th>\n      <td>18.35</td>\n      <td>3.00</td>\n      <td>2</td>\n      <td>0.153492</td>\n    </tr>\n    <tr>\n      <th>Female</th>\n      <td>16.40</td>\n      <td>2.75</td>\n      <td>2</td>\n      <td>0.155581</td>\n    </tr>\n  </tbody>\n</table>\n</div>"
     },
     "metadata": {},
     "execution_count": 10
    }
   ],
   "source": [
    "df.groupby('sex').median()"
   ]
  },
  {
   "cell_type": "code",
   "execution_count": 11,
   "metadata": {},
   "outputs": [
    {
     "output_type": "execute_result",
     "data": {
      "text/plain": "       total_bill                                                         \\\n            count       mean       std   min    25%    50%    75%    max   \nsex                                                                        \nMale        157.0  20.744076  9.246469  7.25  14.00  18.35  24.71  50.81   \nFemale       87.0  18.056897  8.009209  3.07  12.75  16.40  21.52  44.30   \n\n       prct_tip                                                              \\\n          count      mean       std       min       25%       50%       75%   \nsex                                                                           \nMale      157.0  0.157651  0.064778  0.035638  0.121389  0.153492  0.186240   \nFemale     87.0  0.166491  0.053632  0.056433  0.140416  0.155581  0.194266   \n\n                  \n             max  \nsex               \nMale    0.710345  \nFemale  0.416667  ",
      "text/html": "<div>\n<style scoped>\n    .dataframe tbody tr th:only-of-type {\n        vertical-align: middle;\n    }\n\n    .dataframe tbody tr th {\n        vertical-align: top;\n    }\n\n    .dataframe thead tr th {\n        text-align: left;\n    }\n\n    .dataframe thead tr:last-of-type th {\n        text-align: right;\n    }\n</style>\n<table border=\"1\" class=\"dataframe\">\n  <thead>\n    <tr>\n      <th></th>\n      <th colspan=\"8\" halign=\"left\">total_bill</th>\n      <th colspan=\"8\" halign=\"left\">prct_tip</th>\n    </tr>\n    <tr>\n      <th></th>\n      <th>count</th>\n      <th>mean</th>\n      <th>std</th>\n      <th>min</th>\n      <th>25%</th>\n      <th>50%</th>\n      <th>75%</th>\n      <th>max</th>\n      <th>count</th>\n      <th>mean</th>\n      <th>std</th>\n      <th>min</th>\n      <th>25%</th>\n      <th>50%</th>\n      <th>75%</th>\n      <th>max</th>\n    </tr>\n    <tr>\n      <th>sex</th>\n      <th></th>\n      <th></th>\n      <th></th>\n      <th></th>\n      <th></th>\n      <th></th>\n      <th></th>\n      <th></th>\n      <th></th>\n      <th></th>\n      <th></th>\n      <th></th>\n      <th></th>\n      <th></th>\n      <th></th>\n      <th></th>\n    </tr>\n  </thead>\n  <tbody>\n    <tr>\n      <th>Male</th>\n      <td>157.0</td>\n      <td>20.744076</td>\n      <td>9.246469</td>\n      <td>7.25</td>\n      <td>14.00</td>\n      <td>18.35</td>\n      <td>24.71</td>\n      <td>50.81</td>\n      <td>157.0</td>\n      <td>0.157651</td>\n      <td>0.064778</td>\n      <td>0.035638</td>\n      <td>0.121389</td>\n      <td>0.153492</td>\n      <td>0.186240</td>\n      <td>0.710345</td>\n    </tr>\n    <tr>\n      <th>Female</th>\n      <td>87.0</td>\n      <td>18.056897</td>\n      <td>8.009209</td>\n      <td>3.07</td>\n      <td>12.75</td>\n      <td>16.40</td>\n      <td>21.52</td>\n      <td>44.30</td>\n      <td>87.0</td>\n      <td>0.166491</td>\n      <td>0.053632</td>\n      <td>0.056433</td>\n      <td>0.140416</td>\n      <td>0.155581</td>\n      <td>0.194266</td>\n      <td>0.416667</td>\n    </tr>\n  </tbody>\n</table>\n</div>"
     },
     "metadata": {},
     "execution_count": 11
    }
   ],
   "source": [
    "df.groupby('sex')[['total_bill','prct_tip']].describe()"
   ]
  },
  {
   "cell_type": "code",
   "execution_count": 12,
   "metadata": {},
   "outputs": [],
   "source": [
    "def mean_eur2usd(x):\n",
    "    return np.mean(x)*1.12"
   ]
  },
  {
   "cell_type": "code",
   "execution_count": 13,
   "metadata": {},
   "outputs": [
    {
     "output_type": "execute_result",
     "data": {
      "text/plain": "        total_bill  prct_tip\nsex                         \nMale     23.233366  0.176569\nFemale   20.223724  0.186470",
      "text/html": "<div>\n<style scoped>\n    .dataframe tbody tr th:only-of-type {\n        vertical-align: middle;\n    }\n\n    .dataframe tbody tr th {\n        vertical-align: top;\n    }\n\n    .dataframe thead th {\n        text-align: right;\n    }\n</style>\n<table border=\"1\" class=\"dataframe\">\n  <thead>\n    <tr style=\"text-align: right;\">\n      <th></th>\n      <th>total_bill</th>\n      <th>prct_tip</th>\n    </tr>\n    <tr>\n      <th>sex</th>\n      <th></th>\n      <th></th>\n    </tr>\n  </thead>\n  <tbody>\n    <tr>\n      <th>Male</th>\n      <td>23.233366</td>\n      <td>0.176569</td>\n    </tr>\n    <tr>\n      <th>Female</th>\n      <td>20.223724</td>\n      <td>0.186470</td>\n    </tr>\n  </tbody>\n</table>\n</div>"
     },
     "metadata": {},
     "execution_count": 13
    }
   ],
   "source": [
    "df.groupby('sex')[['total_bill','prct_tip']].apply(mean_eur2usd)"
   ]
  },
  {
   "cell_type": "code",
   "execution_count": 14,
   "metadata": {},
   "outputs": [
    {
     "output_type": "execute_result",
     "data": {
      "text/plain": "               total_bill  prct_tip\nsex    time                        \nMale   Lunch    20.214303  0.186013\n       Dinner   24.036826  0.174055\nFemale Lunch    18.299840  0.181759\n       Dinner   21.518646  0.189640",
      "text/html": "<div>\n<style scoped>\n    .dataframe tbody tr th:only-of-type {\n        vertical-align: middle;\n    }\n\n    .dataframe tbody tr th {\n        vertical-align: top;\n    }\n\n    .dataframe thead th {\n        text-align: right;\n    }\n</style>\n<table border=\"1\" class=\"dataframe\">\n  <thead>\n    <tr style=\"text-align: right;\">\n      <th></th>\n      <th></th>\n      <th>total_bill</th>\n      <th>prct_tip</th>\n    </tr>\n    <tr>\n      <th>sex</th>\n      <th>time</th>\n      <th></th>\n      <th></th>\n    </tr>\n  </thead>\n  <tbody>\n    <tr>\n      <th rowspan=\"2\" valign=\"top\">Male</th>\n      <th>Lunch</th>\n      <td>20.214303</td>\n      <td>0.186013</td>\n    </tr>\n    <tr>\n      <th>Dinner</th>\n      <td>24.036826</td>\n      <td>0.174055</td>\n    </tr>\n    <tr>\n      <th rowspan=\"2\" valign=\"top\">Female</th>\n      <th>Lunch</th>\n      <td>18.299840</td>\n      <td>0.181759</td>\n    </tr>\n    <tr>\n      <th>Dinner</th>\n      <td>21.518646</td>\n      <td>0.189640</td>\n    </tr>\n  </tbody>\n</table>\n</div>"
     },
     "metadata": {},
     "execution_count": 14
    }
   ],
   "source": [
    "df.groupby(['sex','time'])[['total_bill','prct_tip']].apply(mean_eur2usd)"
   ]
  },
  {
   "cell_type": "code",
   "execution_count": 15,
   "metadata": {},
   "outputs": [
    {
     "output_type": "execute_result",
     "data": {
      "text/plain": "               total_bill  prct_tip\nsex    time                        \nMale   Lunch     7.832002  0.045029\n       Dinner    9.422748  0.068669\nFemale Lunch     7.392872  0.034369\n       Dinner    8.122836  0.062786",
      "text/html": "<div>\n<style scoped>\n    .dataframe tbody tr th:only-of-type {\n        vertical-align: middle;\n    }\n\n    .dataframe tbody tr th {\n        vertical-align: top;\n    }\n\n    .dataframe thead th {\n        text-align: right;\n    }\n</style>\n<table border=\"1\" class=\"dataframe\">\n  <thead>\n    <tr style=\"text-align: right;\">\n      <th></th>\n      <th></th>\n      <th>total_bill</th>\n      <th>prct_tip</th>\n    </tr>\n    <tr>\n      <th>sex</th>\n      <th>time</th>\n      <th></th>\n      <th></th>\n    </tr>\n  </thead>\n  <tbody>\n    <tr>\n      <th rowspan=\"2\" valign=\"top\">Male</th>\n      <th>Lunch</th>\n      <td>7.832002</td>\n      <td>0.045029</td>\n    </tr>\n    <tr>\n      <th>Dinner</th>\n      <td>9.422748</td>\n      <td>0.068669</td>\n    </tr>\n    <tr>\n      <th rowspan=\"2\" valign=\"top\">Female</th>\n      <th>Lunch</th>\n      <td>7.392872</td>\n      <td>0.034369</td>\n    </tr>\n    <tr>\n      <th>Dinner</th>\n      <td>8.122836</td>\n      <td>0.062786</td>\n    </tr>\n  </tbody>\n</table>\n</div>"
     },
     "metadata": {},
     "execution_count": 15
    }
   ],
   "source": [
    "df.groupby(['sex','time'])[['total_bill','prct_tip']].apply(np.std)"
   ]
  },
  {
   "cell_type": "code",
   "execution_count": 16,
   "metadata": {},
   "outputs": [
    {
     "output_type": "execute_result",
     "data": {
      "text/plain": "               total_bill  prct_tip\nsex    time                        \nMale   Lunch    20.214303  0.186013\n       Dinner   24.036826  0.174055\nFemale Lunch    18.299840  0.181759\n       Dinner   21.518646  0.189640",
      "text/html": "<div>\n<style scoped>\n    .dataframe tbody tr th:only-of-type {\n        vertical-align: middle;\n    }\n\n    .dataframe tbody tr th {\n        vertical-align: top;\n    }\n\n    .dataframe thead th {\n        text-align: right;\n    }\n</style>\n<table border=\"1\" class=\"dataframe\">\n  <thead>\n    <tr style=\"text-align: right;\">\n      <th></th>\n      <th></th>\n      <th>total_bill</th>\n      <th>prct_tip</th>\n    </tr>\n    <tr>\n      <th>sex</th>\n      <th>time</th>\n      <th></th>\n      <th></th>\n    </tr>\n  </thead>\n  <tbody>\n    <tr>\n      <th rowspan=\"2\" valign=\"top\">Male</th>\n      <th>Lunch</th>\n      <td>20.214303</td>\n      <td>0.186013</td>\n    </tr>\n    <tr>\n      <th>Dinner</th>\n      <td>24.036826</td>\n      <td>0.174055</td>\n    </tr>\n    <tr>\n      <th rowspan=\"2\" valign=\"top\">Female</th>\n      <th>Lunch</th>\n      <td>18.299840</td>\n      <td>0.181759</td>\n    </tr>\n    <tr>\n      <th>Dinner</th>\n      <td>21.518646</td>\n      <td>0.189640</td>\n    </tr>\n  </tbody>\n</table>\n</div>"
     },
     "metadata": {},
     "execution_count": 16
    }
   ],
   "source": [
    "df.groupby(['sex','time'])[['total_bill','prct_tip']].apply(lambda x: np.mean(x)*1.12)"
   ]
  },
  {
   "cell_type": "code",
   "execution_count": 17,
   "metadata": {},
   "outputs": [
    {
     "output_type": "execute_result",
     "data": {
      "text/plain": "              total_bill         prct_tip          \n                    mean   amax      mean      amax\nsex    time                                        \nMale   Lunch   18.048485  41.19  0.166083  0.266312\n       Dinner  21.461452  50.81  0.155407  0.710345\nFemale Lunch   16.339143  43.11  0.162285  0.259314\n       Dinner  19.213077  44.30  0.169322  0.416667",
      "text/html": "<div>\n<style scoped>\n    .dataframe tbody tr th:only-of-type {\n        vertical-align: middle;\n    }\n\n    .dataframe tbody tr th {\n        vertical-align: top;\n    }\n\n    .dataframe thead tr th {\n        text-align: left;\n    }\n\n    .dataframe thead tr:last-of-type th {\n        text-align: right;\n    }\n</style>\n<table border=\"1\" class=\"dataframe\">\n  <thead>\n    <tr>\n      <th></th>\n      <th></th>\n      <th colspan=\"2\" halign=\"left\">total_bill</th>\n      <th colspan=\"2\" halign=\"left\">prct_tip</th>\n    </tr>\n    <tr>\n      <th></th>\n      <th></th>\n      <th>mean</th>\n      <th>amax</th>\n      <th>mean</th>\n      <th>amax</th>\n    </tr>\n    <tr>\n      <th>sex</th>\n      <th>time</th>\n      <th></th>\n      <th></th>\n      <th></th>\n      <th></th>\n    </tr>\n  </thead>\n  <tbody>\n    <tr>\n      <th rowspan=\"2\" valign=\"top\">Male</th>\n      <th>Lunch</th>\n      <td>18.048485</td>\n      <td>41.19</td>\n      <td>0.166083</td>\n      <td>0.266312</td>\n    </tr>\n    <tr>\n      <th>Dinner</th>\n      <td>21.461452</td>\n      <td>50.81</td>\n      <td>0.155407</td>\n      <td>0.710345</td>\n    </tr>\n    <tr>\n      <th rowspan=\"2\" valign=\"top\">Female</th>\n      <th>Lunch</th>\n      <td>16.339143</td>\n      <td>43.11</td>\n      <td>0.162285</td>\n      <td>0.259314</td>\n    </tr>\n    <tr>\n      <th>Dinner</th>\n      <td>19.213077</td>\n      <td>44.30</td>\n      <td>0.169322</td>\n      <td>0.416667</td>\n    </tr>\n  </tbody>\n</table>\n</div>"
     },
     "metadata": {},
     "execution_count": 17
    }
   ],
   "source": [
    "df.groupby(['sex','time'])[['total_bill','prct_tip']].aggregate([np.mean,np.max])"
   ]
  },
  {
   "cell_type": "code",
   "execution_count": 18,
   "metadata": {},
   "outputs": [
    {
     "output_type": "execute_result",
     "data": {
      "text/plain": "{'tip': [<function min>, <function max>],\n 'total_bill': [<function numpy.mean(a, axis=None, dtype=None, out=None, keepdims=<no value>)>,\n  <function __main__.mean_eur2usd(x)>]}"
     },
     "metadata": {},
     "execution_count": 18
    }
   ],
   "source": [
    "dict_agg = {'tip': [min,max],'total_bill': [np.mean,mean_eur2usd]}\n",
    "dict_agg"
   ]
  },
  {
   "cell_type": "code",
   "execution_count": 19,
   "metadata": {},
   "outputs": [
    {
     "output_type": "execute_result",
     "data": {
      "text/plain": "                tip        total_bill             \n                min    max       mean mean_eur2usd\nsex    time                                       \nMale   Lunch   1.44   6.70  18.048485    20.214303\n       Dinner  1.00  10.00  21.461452    24.036826\nFemale Lunch   1.25   5.17  16.339143    18.299840\n       Dinner  1.00   6.50  19.213077    21.518646",
      "text/html": "<div>\n<style scoped>\n    .dataframe tbody tr th:only-of-type {\n        vertical-align: middle;\n    }\n\n    .dataframe tbody tr th {\n        vertical-align: top;\n    }\n\n    .dataframe thead tr th {\n        text-align: left;\n    }\n\n    .dataframe thead tr:last-of-type th {\n        text-align: right;\n    }\n</style>\n<table border=\"1\" class=\"dataframe\">\n  <thead>\n    <tr>\n      <th></th>\n      <th></th>\n      <th colspan=\"2\" halign=\"left\">tip</th>\n      <th colspan=\"2\" halign=\"left\">total_bill</th>\n    </tr>\n    <tr>\n      <th></th>\n      <th></th>\n      <th>min</th>\n      <th>max</th>\n      <th>mean</th>\n      <th>mean_eur2usd</th>\n    </tr>\n    <tr>\n      <th>sex</th>\n      <th>time</th>\n      <th></th>\n      <th></th>\n      <th></th>\n      <th></th>\n    </tr>\n  </thead>\n  <tbody>\n    <tr>\n      <th rowspan=\"2\" valign=\"top\">Male</th>\n      <th>Lunch</th>\n      <td>1.44</td>\n      <td>6.70</td>\n      <td>18.048485</td>\n      <td>20.214303</td>\n    </tr>\n    <tr>\n      <th>Dinner</th>\n      <td>1.00</td>\n      <td>10.00</td>\n      <td>21.461452</td>\n      <td>24.036826</td>\n    </tr>\n    <tr>\n      <th rowspan=\"2\" valign=\"top\">Female</th>\n      <th>Lunch</th>\n      <td>1.25</td>\n      <td>5.17</td>\n      <td>16.339143</td>\n      <td>18.299840</td>\n    </tr>\n    <tr>\n      <th>Dinner</th>\n      <td>1.00</td>\n      <td>6.50</td>\n      <td>19.213077</td>\n      <td>21.518646</td>\n    </tr>\n  </tbody>\n</table>\n</div>"
     },
     "metadata": {},
     "execution_count": 19
    }
   ],
   "source": [
    "df.groupby(['sex','time'])[['total_bill','tip']].agg(dict_agg)"
   ]
  },
  {
   "cell_type": "code",
   "execution_count": 20,
   "metadata": {},
   "outputs": [],
   "source": [
    "def f_filter(x):\n",
    "    return mean_eur2usd(x['total_bill']).mean()>20"
   ]
  },
  {
   "cell_type": "code",
   "execution_count": 21,
   "metadata": {},
   "outputs": [
    {
     "output_type": "execute_result",
     "data": {
      "text/plain": "     total_bill   tip     sex smoker   day    time  size  prct_tip\n0         16.99  1.01  Female     No   Sun  Dinner     2  0.059447\n1         10.34  1.66    Male     No   Sun  Dinner     3  0.160542\n2         21.01  3.50    Male     No   Sun  Dinner     3  0.166587\n3         23.68  3.31    Male     No   Sun  Dinner     2  0.139780\n4         24.59  3.61  Female     No   Sun  Dinner     4  0.146808\n..          ...   ...     ...    ...   ...     ...   ...       ...\n239       29.03  5.92    Male     No   Sat  Dinner     3  0.203927\n240       27.18  2.00  Female    Yes   Sat  Dinner     2  0.073584\n241       22.67  2.00    Male    Yes   Sat  Dinner     2  0.088222\n242       17.82  1.75    Male     No   Sat  Dinner     2  0.098204\n243       18.78  3.00  Female     No  Thur  Dinner     2  0.159744\n\n[209 rows x 8 columns]",
      "text/html": "<div>\n<style scoped>\n    .dataframe tbody tr th:only-of-type {\n        vertical-align: middle;\n    }\n\n    .dataframe tbody tr th {\n        vertical-align: top;\n    }\n\n    .dataframe thead th {\n        text-align: right;\n    }\n</style>\n<table border=\"1\" class=\"dataframe\">\n  <thead>\n    <tr style=\"text-align: right;\">\n      <th></th>\n      <th>total_bill</th>\n      <th>tip</th>\n      <th>sex</th>\n      <th>smoker</th>\n      <th>day</th>\n      <th>time</th>\n      <th>size</th>\n      <th>prct_tip</th>\n    </tr>\n  </thead>\n  <tbody>\n    <tr>\n      <th>0</th>\n      <td>16.99</td>\n      <td>1.01</td>\n      <td>Female</td>\n      <td>No</td>\n      <td>Sun</td>\n      <td>Dinner</td>\n      <td>2</td>\n      <td>0.059447</td>\n    </tr>\n    <tr>\n      <th>1</th>\n      <td>10.34</td>\n      <td>1.66</td>\n      <td>Male</td>\n      <td>No</td>\n      <td>Sun</td>\n      <td>Dinner</td>\n      <td>3</td>\n      <td>0.160542</td>\n    </tr>\n    <tr>\n      <th>2</th>\n      <td>21.01</td>\n      <td>3.50</td>\n      <td>Male</td>\n      <td>No</td>\n      <td>Sun</td>\n      <td>Dinner</td>\n      <td>3</td>\n      <td>0.166587</td>\n    </tr>\n    <tr>\n      <th>3</th>\n      <td>23.68</td>\n      <td>3.31</td>\n      <td>Male</td>\n      <td>No</td>\n      <td>Sun</td>\n      <td>Dinner</td>\n      <td>2</td>\n      <td>0.139780</td>\n    </tr>\n    <tr>\n      <th>4</th>\n      <td>24.59</td>\n      <td>3.61</td>\n      <td>Female</td>\n      <td>No</td>\n      <td>Sun</td>\n      <td>Dinner</td>\n      <td>4</td>\n      <td>0.146808</td>\n    </tr>\n    <tr>\n      <th>...</th>\n      <td>...</td>\n      <td>...</td>\n      <td>...</td>\n      <td>...</td>\n      <td>...</td>\n      <td>...</td>\n      <td>...</td>\n      <td>...</td>\n    </tr>\n    <tr>\n      <th>239</th>\n      <td>29.03</td>\n      <td>5.92</td>\n      <td>Male</td>\n      <td>No</td>\n      <td>Sat</td>\n      <td>Dinner</td>\n      <td>3</td>\n      <td>0.203927</td>\n    </tr>\n    <tr>\n      <th>240</th>\n      <td>27.18</td>\n      <td>2.00</td>\n      <td>Female</td>\n      <td>Yes</td>\n      <td>Sat</td>\n      <td>Dinner</td>\n      <td>2</td>\n      <td>0.073584</td>\n    </tr>\n    <tr>\n      <th>241</th>\n      <td>22.67</td>\n      <td>2.00</td>\n      <td>Male</td>\n      <td>Yes</td>\n      <td>Sat</td>\n      <td>Dinner</td>\n      <td>2</td>\n      <td>0.088222</td>\n    </tr>\n    <tr>\n      <th>242</th>\n      <td>17.82</td>\n      <td>1.75</td>\n      <td>Male</td>\n      <td>No</td>\n      <td>Sat</td>\n      <td>Dinner</td>\n      <td>2</td>\n      <td>0.098204</td>\n    </tr>\n    <tr>\n      <th>243</th>\n      <td>18.78</td>\n      <td>3.00</td>\n      <td>Female</td>\n      <td>No</td>\n      <td>Thur</td>\n      <td>Dinner</td>\n      <td>2</td>\n      <td>0.159744</td>\n    </tr>\n  </tbody>\n</table>\n<p>209 rows × 8 columns</p>\n</div>"
     },
     "metadata": {},
     "execution_count": 21
    }
   ],
   "source": [
    "df_filtered =df.groupby(['sex','time']).filter(f_filter)\n",
    "df_filtered"
   ]
  },
  {
   "cell_type": "code",
   "execution_count": 22,
   "metadata": {},
   "outputs": [
    {
     "output_type": "execute_result",
     "data": {
      "text/plain": "               total_bill    tip  smoker    day   size  prct_tip\nsex    time                                                     \nMale   Lunch         33.0   33.0    33.0   33.0   33.0      33.0\n       Dinner       124.0  124.0   124.0  124.0  124.0     124.0\nFemale Lunch          NaN    NaN     NaN    NaN    NaN       NaN\n       Dinner        52.0   52.0    52.0   52.0   52.0      52.0",
      "text/html": "<div>\n<style scoped>\n    .dataframe tbody tr th:only-of-type {\n        vertical-align: middle;\n    }\n\n    .dataframe tbody tr th {\n        vertical-align: top;\n    }\n\n    .dataframe thead th {\n        text-align: right;\n    }\n</style>\n<table border=\"1\" class=\"dataframe\">\n  <thead>\n    <tr style=\"text-align: right;\">\n      <th></th>\n      <th></th>\n      <th>total_bill</th>\n      <th>tip</th>\n      <th>smoker</th>\n      <th>day</th>\n      <th>size</th>\n      <th>prct_tip</th>\n    </tr>\n    <tr>\n      <th>sex</th>\n      <th>time</th>\n      <th></th>\n      <th></th>\n      <th></th>\n      <th></th>\n      <th></th>\n      <th></th>\n    </tr>\n  </thead>\n  <tbody>\n    <tr>\n      <th rowspan=\"2\" valign=\"top\">Male</th>\n      <th>Lunch</th>\n      <td>33.0</td>\n      <td>33.0</td>\n      <td>33.0</td>\n      <td>33.0</td>\n      <td>33.0</td>\n      <td>33.0</td>\n    </tr>\n    <tr>\n      <th>Dinner</th>\n      <td>124.0</td>\n      <td>124.0</td>\n      <td>124.0</td>\n      <td>124.0</td>\n      <td>124.0</td>\n      <td>124.0</td>\n    </tr>\n    <tr>\n      <th rowspan=\"2\" valign=\"top\">Female</th>\n      <th>Lunch</th>\n      <td>NaN</td>\n      <td>NaN</td>\n      <td>NaN</td>\n      <td>NaN</td>\n      <td>NaN</td>\n      <td>NaN</td>\n    </tr>\n    <tr>\n      <th>Dinner</th>\n      <td>52.0</td>\n      <td>52.0</td>\n      <td>52.0</td>\n      <td>52.0</td>\n      <td>52.0</td>\n      <td>52.0</td>\n    </tr>\n  </tbody>\n</table>\n</div>"
     },
     "metadata": {},
     "execution_count": 22
    }
   ],
   "source": [
    "df_filtered.groupby(['sex','time']).count()"
   ]
  },
  {
   "cell_type": "code",
   "execution_count": 23,
   "metadata": {},
   "outputs": [],
   "source": [
    "df['ones']=1"
   ]
  },
  {
   "cell_type": "code",
   "execution_count": 24,
   "metadata": {},
   "outputs": [
    {
     "output_type": "execute_result",
     "data": {
      "text/plain": "               ones\nsex    smoker      \nMale   Yes       60\n       No        97\nFemale Yes       33\n       No        54",
      "text/html": "<div>\n<style scoped>\n    .dataframe tbody tr th:only-of-type {\n        vertical-align: middle;\n    }\n\n    .dataframe tbody tr th {\n        vertical-align: top;\n    }\n\n    .dataframe thead th {\n        text-align: right;\n    }\n</style>\n<table border=\"1\" class=\"dataframe\">\n  <thead>\n    <tr style=\"text-align: right;\">\n      <th></th>\n      <th></th>\n      <th>ones</th>\n    </tr>\n    <tr>\n      <th>sex</th>\n      <th>smoker</th>\n      <th></th>\n    </tr>\n  </thead>\n  <tbody>\n    <tr>\n      <th rowspan=\"2\" valign=\"top\">Male</th>\n      <th>Yes</th>\n      <td>60</td>\n    </tr>\n    <tr>\n      <th>No</th>\n      <td>97</td>\n    </tr>\n    <tr>\n      <th rowspan=\"2\" valign=\"top\">Female</th>\n      <th>Yes</th>\n      <td>33</td>\n    </tr>\n    <tr>\n      <th>No</th>\n      <td>54</td>\n    </tr>\n  </tbody>\n</table>\n</div>"
     },
     "metadata": {},
     "execution_count": 24
    }
   ],
   "source": [
    "df_g=df.groupby(['sex','smoker'])[['ones']].sum()\n",
    "df_g"
   ]
  },
  {
   "cell_type": "code",
   "execution_count": 25,
   "metadata": {},
   "outputs": [
    {
     "output_type": "execute_result",
     "data": {
      "text/plain": "                    ones\nsex    smoker           \nMale   Yes     38.216561\n       No      61.783439\nFemale Yes     37.931034\n       No      62.068966",
      "text/html": "<div>\n<style scoped>\n    .dataframe tbody tr th:only-of-type {\n        vertical-align: middle;\n    }\n\n    .dataframe tbody tr th {\n        vertical-align: top;\n    }\n\n    .dataframe thead th {\n        text-align: right;\n    }\n</style>\n<table border=\"1\" class=\"dataframe\">\n  <thead>\n    <tr style=\"text-align: right;\">\n      <th></th>\n      <th></th>\n      <th>ones</th>\n    </tr>\n    <tr>\n      <th>sex</th>\n      <th>smoker</th>\n      <th></th>\n    </tr>\n  </thead>\n  <tbody>\n    <tr>\n      <th rowspan=\"2\" valign=\"top\">Male</th>\n      <th>Yes</th>\n      <td>38.216561</td>\n    </tr>\n    <tr>\n      <th>No</th>\n      <td>61.783439</td>\n    </tr>\n    <tr>\n      <th rowspan=\"2\" valign=\"top\">Female</th>\n      <th>Yes</th>\n      <td>37.931034</td>\n    </tr>\n    <tr>\n      <th>No</th>\n      <td>62.068966</td>\n    </tr>\n  </tbody>\n</table>\n</div>"
     },
     "metadata": {},
     "execution_count": 25
    }
   ],
   "source": [
    "df_g.groupby(level=0).apply(lambda x: x/x.sum()*100)"
   ]
  },
  {
   "cell_type": "code",
   "execution_count": 26,
   "metadata": {},
   "outputs": [
    {
     "output_type": "execute_result",
     "data": {
      "text/plain": "     total_bill   tip     sex smoker   day    time  size  prct_tip  ones  \\\n0         16.99  1.01  Female     No   Sun  Dinner     2  0.059447     1   \n1         10.34  1.66    Male     No   Sun  Dinner     3  0.160542     1   \n2         21.01  3.50    Male     No   Sun  Dinner     3  0.166587     1   \n3         23.68  3.31    Male     No   Sun  Dinner     2  0.139780     1   \n4         24.59  3.61  Female     No   Sun  Dinner     4  0.146808     1   \n..          ...   ...     ...    ...   ...     ...   ...       ...   ...   \n239       29.03  5.92    Male     No   Sat  Dinner     3  0.203927     1   \n240       27.18  2.00  Female    Yes   Sat  Dinner     2  0.073584     1   \n241       22.67  2.00    Male    Yes   Sat  Dinner     2  0.088222     1   \n242       17.82  1.75    Male     No   Sat  Dinner     2  0.098204     1   \n243       18.78  3.00  Female     No  Thur  Dinner     2  0.159744     1   \n\n    bin_total  \n0     (3, 18]  \n1     (3, 18]  \n2    (18, 35]  \n3    (18, 35]  \n4    (18, 35]  \n..        ...  \n239  (18, 35]  \n240  (18, 35]  \n241  (18, 35]  \n242   (3, 18]  \n243  (18, 35]  \n\n[244 rows x 10 columns]",
      "text/html": "<div>\n<style scoped>\n    .dataframe tbody tr th:only-of-type {\n        vertical-align: middle;\n    }\n\n    .dataframe tbody tr th {\n        vertical-align: top;\n    }\n\n    .dataframe thead th {\n        text-align: right;\n    }\n</style>\n<table border=\"1\" class=\"dataframe\">\n  <thead>\n    <tr style=\"text-align: right;\">\n      <th></th>\n      <th>total_bill</th>\n      <th>tip</th>\n      <th>sex</th>\n      <th>smoker</th>\n      <th>day</th>\n      <th>time</th>\n      <th>size</th>\n      <th>prct_tip</th>\n      <th>ones</th>\n      <th>bin_total</th>\n    </tr>\n  </thead>\n  <tbody>\n    <tr>\n      <th>0</th>\n      <td>16.99</td>\n      <td>1.01</td>\n      <td>Female</td>\n      <td>No</td>\n      <td>Sun</td>\n      <td>Dinner</td>\n      <td>2</td>\n      <td>0.059447</td>\n      <td>1</td>\n      <td>(3, 18]</td>\n    </tr>\n    <tr>\n      <th>1</th>\n      <td>10.34</td>\n      <td>1.66</td>\n      <td>Male</td>\n      <td>No</td>\n      <td>Sun</td>\n      <td>Dinner</td>\n      <td>3</td>\n      <td>0.160542</td>\n      <td>1</td>\n      <td>(3, 18]</td>\n    </tr>\n    <tr>\n      <th>2</th>\n      <td>21.01</td>\n      <td>3.50</td>\n      <td>Male</td>\n      <td>No</td>\n      <td>Sun</td>\n      <td>Dinner</td>\n      <td>3</td>\n      <td>0.166587</td>\n      <td>1</td>\n      <td>(18, 35]</td>\n    </tr>\n    <tr>\n      <th>3</th>\n      <td>23.68</td>\n      <td>3.31</td>\n      <td>Male</td>\n      <td>No</td>\n      <td>Sun</td>\n      <td>Dinner</td>\n      <td>2</td>\n      <td>0.139780</td>\n      <td>1</td>\n      <td>(18, 35]</td>\n    </tr>\n    <tr>\n      <th>4</th>\n      <td>24.59</td>\n      <td>3.61</td>\n      <td>Female</td>\n      <td>No</td>\n      <td>Sun</td>\n      <td>Dinner</td>\n      <td>4</td>\n      <td>0.146808</td>\n      <td>1</td>\n      <td>(18, 35]</td>\n    </tr>\n    <tr>\n      <th>...</th>\n      <td>...</td>\n      <td>...</td>\n      <td>...</td>\n      <td>...</td>\n      <td>...</td>\n      <td>...</td>\n      <td>...</td>\n      <td>...</td>\n      <td>...</td>\n      <td>...</td>\n    </tr>\n    <tr>\n      <th>239</th>\n      <td>29.03</td>\n      <td>5.92</td>\n      <td>Male</td>\n      <td>No</td>\n      <td>Sat</td>\n      <td>Dinner</td>\n      <td>3</td>\n      <td>0.203927</td>\n      <td>1</td>\n      <td>(18, 35]</td>\n    </tr>\n    <tr>\n      <th>240</th>\n      <td>27.18</td>\n      <td>2.00</td>\n      <td>Female</td>\n      <td>Yes</td>\n      <td>Sat</td>\n      <td>Dinner</td>\n      <td>2</td>\n      <td>0.073584</td>\n      <td>1</td>\n      <td>(18, 35]</td>\n    </tr>\n    <tr>\n      <th>241</th>\n      <td>22.67</td>\n      <td>2.00</td>\n      <td>Male</td>\n      <td>Yes</td>\n      <td>Sat</td>\n      <td>Dinner</td>\n      <td>2</td>\n      <td>0.088222</td>\n      <td>1</td>\n      <td>(18, 35]</td>\n    </tr>\n    <tr>\n      <th>242</th>\n      <td>17.82</td>\n      <td>1.75</td>\n      <td>Male</td>\n      <td>No</td>\n      <td>Sat</td>\n      <td>Dinner</td>\n      <td>2</td>\n      <td>0.098204</td>\n      <td>1</td>\n      <td>(3, 18]</td>\n    </tr>\n    <tr>\n      <th>243</th>\n      <td>18.78</td>\n      <td>3.00</td>\n      <td>Female</td>\n      <td>No</td>\n      <td>Thur</td>\n      <td>Dinner</td>\n      <td>2</td>\n      <td>0.159744</td>\n      <td>1</td>\n      <td>(18, 35]</td>\n    </tr>\n  </tbody>\n</table>\n<p>244 rows × 10 columns</p>\n</div>"
     },
     "metadata": {},
     "execution_count": 26
    }
   ],
   "source": [
    "df['bin_total']=pd.cut(df['total_bill'],bins=[3,18,35,60])\n",
    "df"
   ]
  },
  {
   "cell_type": "code",
   "execution_count": 27,
   "metadata": {},
   "outputs": [
    {
     "output_type": "execute_result",
     "data": {
      "text/plain": "(3, 18]     127\n(18, 35]    101\n(35, 60]     16\nName: total_bill, dtype: int64"
     },
     "metadata": {},
     "execution_count": 27
    }
   ],
   "source": [
    "pd.cut(df['total_bill'],bins=[3,18,35,60]).value_counts()"
   ]
  },
  {
   "cell_type": "code",
   "execution_count": 28,
   "metadata": {},
   "outputs": [
    {
     "output_type": "execute_result",
     "data": {
      "text/plain": "                       ones\ntime   bin_total           \nLunch  (3, 18]    66.176471\n       (18, 35]   30.882353\n       (35, 60]    2.941176\nDinner (3, 18]    46.590909\n       (18, 35]   45.454545\n       (35, 60]    7.954545",
      "text/html": "<div>\n<style scoped>\n    .dataframe tbody tr th:only-of-type {\n        vertical-align: middle;\n    }\n\n    .dataframe tbody tr th {\n        vertical-align: top;\n    }\n\n    .dataframe thead th {\n        text-align: right;\n    }\n</style>\n<table border=\"1\" class=\"dataframe\">\n  <thead>\n    <tr style=\"text-align: right;\">\n      <th></th>\n      <th></th>\n      <th>ones</th>\n    </tr>\n    <tr>\n      <th>time</th>\n      <th>bin_total</th>\n      <th></th>\n    </tr>\n  </thead>\n  <tbody>\n    <tr>\n      <th rowspan=\"3\" valign=\"top\">Lunch</th>\n      <th>(3, 18]</th>\n      <td>66.176471</td>\n    </tr>\n    <tr>\n      <th>(18, 35]</th>\n      <td>30.882353</td>\n    </tr>\n    <tr>\n      <th>(35, 60]</th>\n      <td>2.941176</td>\n    </tr>\n    <tr>\n      <th rowspan=\"3\" valign=\"top\">Dinner</th>\n      <th>(3, 18]</th>\n      <td>46.590909</td>\n    </tr>\n    <tr>\n      <th>(18, 35]</th>\n      <td>45.454545</td>\n    </tr>\n    <tr>\n      <th>(35, 60]</th>\n      <td>7.954545</td>\n    </tr>\n  </tbody>\n</table>\n</div>"
     },
     "metadata": {},
     "execution_count": 28
    }
   ],
   "source": [
    "df.groupby(['time','bin_total'])[['ones']].count().groupby(level=0).apply(lambda x: x/x.sum()*100)"
   ]
  },
  {
   "cell_type": "markdown",
   "metadata": {},
   "source": [
    "Pivot"
   ]
  },
  {
   "cell_type": "code",
   "execution_count": 32,
   "metadata": {},
   "outputs": [
    {
     "output_type": "execute_result",
     "data": {
      "text/plain": "               total_bill\nsex    time              \nMale   Lunch    18.048485\n       Dinner   21.461452\nFemale Lunch    16.339143\n       Dinner   19.213077",
      "text/html": "<div>\n<style scoped>\n    .dataframe tbody tr th:only-of-type {\n        vertical-align: middle;\n    }\n\n    .dataframe tbody tr th {\n        vertical-align: top;\n    }\n\n    .dataframe thead th {\n        text-align: right;\n    }\n</style>\n<table border=\"1\" class=\"dataframe\">\n  <thead>\n    <tr style=\"text-align: right;\">\n      <th></th>\n      <th></th>\n      <th>total_bill</th>\n    </tr>\n    <tr>\n      <th>sex</th>\n      <th>time</th>\n      <th></th>\n    </tr>\n  </thead>\n  <tbody>\n    <tr>\n      <th rowspan=\"2\" valign=\"top\">Male</th>\n      <th>Lunch</th>\n      <td>18.048485</td>\n    </tr>\n    <tr>\n      <th>Dinner</th>\n      <td>21.461452</td>\n    </tr>\n    <tr>\n      <th rowspan=\"2\" valign=\"top\">Female</th>\n      <th>Lunch</th>\n      <td>16.339143</td>\n    </tr>\n    <tr>\n      <th>Dinner</th>\n      <td>19.213077</td>\n    </tr>\n  </tbody>\n</table>\n</div>"
     },
     "metadata": {},
     "execution_count": 32
    }
   ],
   "source": [
    "df.groupby(['sex', 'time'])[['total_bill']].mean()"
   ]
  },
  {
   "cell_type": "code",
   "execution_count": 33,
   "metadata": {},
   "outputs": [
    {
     "output_type": "execute_result",
     "data": {
      "text/plain": "      sex    time  total_bill\n0    Male   Lunch   18.048485\n1    Male  Dinner   21.461452\n2  Female   Lunch   16.339143\n3  Female  Dinner   19.213077",
      "text/html": "<div>\n<style scoped>\n    .dataframe tbody tr th:only-of-type {\n        vertical-align: middle;\n    }\n\n    .dataframe tbody tr th {\n        vertical-align: top;\n    }\n\n    .dataframe thead th {\n        text-align: right;\n    }\n</style>\n<table border=\"1\" class=\"dataframe\">\n  <thead>\n    <tr style=\"text-align: right;\">\n      <th></th>\n      <th>sex</th>\n      <th>time</th>\n      <th>total_bill</th>\n    </tr>\n  </thead>\n  <tbody>\n    <tr>\n      <th>0</th>\n      <td>Male</td>\n      <td>Lunch</td>\n      <td>18.048485</td>\n    </tr>\n    <tr>\n      <th>1</th>\n      <td>Male</td>\n      <td>Dinner</td>\n      <td>21.461452</td>\n    </tr>\n    <tr>\n      <th>2</th>\n      <td>Female</td>\n      <td>Lunch</td>\n      <td>16.339143</td>\n    </tr>\n    <tr>\n      <th>3</th>\n      <td>Female</td>\n      <td>Dinner</td>\n      <td>19.213077</td>\n    </tr>\n  </tbody>\n</table>\n</div>"
     },
     "metadata": {},
     "execution_count": 33
    }
   ],
   "source": [
    "df_gp=df.groupby(['sex', 'time'])[['total_bill']].mean().reset_index()\n",
    "df_gp"
   ]
  },
  {
   "cell_type": "code",
   "execution_count": 36,
   "metadata": {},
   "outputs": [
    {
     "output_type": "execute_result",
     "data": {
      "text/plain": "time       Lunch      Dinner\nsex                         \nMale    18.048485  21.461452\nFemale  16.339143  19.213077",
      "text/html": "<div>\n<style scoped>\n    .dataframe tbody tr th:only-of-type {\n        vertical-align: middle;\n    }\n\n    .dataframe tbody tr th {\n        vertical-align: top;\n    }\n\n    .dataframe thead th {\n        text-align: right;\n    }\n</style>\n<table border=\"1\" class=\"dataframe\">\n  <thead>\n    <tr style=\"text-align: right;\">\n      <th>time</th>\n      <th>Lunch</th>\n      <th>Dinner</th>\n    </tr>\n    <tr>\n      <th>sex</th>\n      <th></th>\n      <th></th>\n    </tr>\n  </thead>\n  <tbody>\n    <tr>\n      <th>Male</th>\n      <td>18.048485</td>\n      <td>21.461452</td>\n    </tr>\n    <tr>\n      <th>Female</th>\n      <td>16.339143</td>\n      <td>19.213077</td>\n    </tr>\n  </tbody>\n</table>\n</div>"
     },
     "metadata": {},
     "execution_count": 36
    }
   ],
   "source": [
    "df_gp.pivot_table(values='total_bill',index='sex',columns='time')"
   ]
  },
  {
   "cell_type": "code",
   "execution_count": 43,
   "metadata": {},
   "outputs": [
    {
     "output_type": "execute_result",
     "data": {
      "text/plain": "       median                                std                       \\\n          tip        total_bill              tip           total_bill   \ntime   Lunch  Dinner     Lunch  Dinner    Lunch     Dinner     Lunch    \nsex                                                                     \nMale     2.31    3.0      16.58  19.63  1.329017  1.529116   7.953435   \nFemale   2.01    3.0      13.42  17.19  1.075108  1.193483   7.500803   \n\n                  \n                  \ntime      Dinner  \nsex               \nMale    9.460974  \nFemale  8.202085  ",
      "text/html": "<div>\n<style scoped>\n    .dataframe tbody tr th:only-of-type {\n        vertical-align: middle;\n    }\n\n    .dataframe tbody tr th {\n        vertical-align: top;\n    }\n\n    .dataframe thead tr th {\n        text-align: left;\n    }\n\n    .dataframe thead tr:last-of-type th {\n        text-align: right;\n    }\n</style>\n<table border=\"1\" class=\"dataframe\">\n  <thead>\n    <tr>\n      <th></th>\n      <th colspan=\"4\" halign=\"left\">median</th>\n      <th colspan=\"4\" halign=\"left\">std</th>\n    </tr>\n    <tr>\n      <th></th>\n      <th colspan=\"2\" halign=\"left\">tip</th>\n      <th colspan=\"2\" halign=\"left\">total_bill</th>\n      <th colspan=\"2\" halign=\"left\">tip</th>\n      <th colspan=\"2\" halign=\"left\">total_bill</th>\n    </tr>\n    <tr>\n      <th>time</th>\n      <th>Lunch</th>\n      <th>Dinner</th>\n      <th>Lunch</th>\n      <th>Dinner</th>\n      <th>Lunch</th>\n      <th>Dinner</th>\n      <th>Lunch</th>\n      <th>Dinner</th>\n    </tr>\n    <tr>\n      <th>sex</th>\n      <th></th>\n      <th></th>\n      <th></th>\n      <th></th>\n      <th></th>\n      <th></th>\n      <th></th>\n      <th></th>\n    </tr>\n  </thead>\n  <tbody>\n    <tr>\n      <th>Male</th>\n      <td>2.31</td>\n      <td>3.0</td>\n      <td>16.58</td>\n      <td>19.63</td>\n      <td>1.329017</td>\n      <td>1.529116</td>\n      <td>7.953435</td>\n      <td>9.460974</td>\n    </tr>\n    <tr>\n      <th>Female</th>\n      <td>2.01</td>\n      <td>3.0</td>\n      <td>13.42</td>\n      <td>17.19</td>\n      <td>1.075108</td>\n      <td>1.193483</td>\n      <td>7.500803</td>\n      <td>8.202085</td>\n    </tr>\n  </tbody>\n</table>\n</div>"
     },
     "metadata": {},
     "execution_count": 43
    }
   ],
   "source": [
    "df_pivot=df.pivot_table(values=['total_bill','tip'],index='sex',columns='time', aggfunc=[np.median,np.std])\n",
    "df_pivot"
   ]
  },
  {
   "cell_type": "code",
   "execution_count": 41,
   "metadata": {},
   "outputs": [
    {
     "output_type": "execute_result",
     "data": {
      "text/plain": "  level_0    time     sex          0\n0  median   Lunch    Male  16.580000\n1  median   Lunch  Female  13.420000\n2  median  Dinner    Male  19.630000\n3  median  Dinner  Female  17.190000\n4     std   Lunch    Male   7.953435\n5     std   Lunch  Female   7.500803\n6     std  Dinner    Male   9.460974\n7     std  Dinner  Female   8.202085",
      "text/html": "<div>\n<style scoped>\n    .dataframe tbody tr th:only-of-type {\n        vertical-align: middle;\n    }\n\n    .dataframe tbody tr th {\n        vertical-align: top;\n    }\n\n    .dataframe thead th {\n        text-align: right;\n    }\n</style>\n<table border=\"1\" class=\"dataframe\">\n  <thead>\n    <tr style=\"text-align: right;\">\n      <th></th>\n      <th>level_0</th>\n      <th>time</th>\n      <th>sex</th>\n      <th>0</th>\n    </tr>\n  </thead>\n  <tbody>\n    <tr>\n      <th>0</th>\n      <td>median</td>\n      <td>Lunch</td>\n      <td>Male</td>\n      <td>16.580000</td>\n    </tr>\n    <tr>\n      <th>1</th>\n      <td>median</td>\n      <td>Lunch</td>\n      <td>Female</td>\n      <td>13.420000</td>\n    </tr>\n    <tr>\n      <th>2</th>\n      <td>median</td>\n      <td>Dinner</td>\n      <td>Male</td>\n      <td>19.630000</td>\n    </tr>\n    <tr>\n      <th>3</th>\n      <td>median</td>\n      <td>Dinner</td>\n      <td>Female</td>\n      <td>17.190000</td>\n    </tr>\n    <tr>\n      <th>4</th>\n      <td>std</td>\n      <td>Lunch</td>\n      <td>Male</td>\n      <td>7.953435</td>\n    </tr>\n    <tr>\n      <th>5</th>\n      <td>std</td>\n      <td>Lunch</td>\n      <td>Female</td>\n      <td>7.500803</td>\n    </tr>\n    <tr>\n      <th>6</th>\n      <td>std</td>\n      <td>Dinner</td>\n      <td>Male</td>\n      <td>9.460974</td>\n    </tr>\n    <tr>\n      <th>7</th>\n      <td>std</td>\n      <td>Dinner</td>\n      <td>Female</td>\n      <td>8.202085</td>\n    </tr>\n  </tbody>\n</table>\n</div>"
     },
     "metadata": {},
     "execution_count": 41
    }
   ],
   "source": [
    "df_pivot.unstack().reset_index()"
   ]
  },
  {
   "cell_type": "code",
   "execution_count": null,
   "metadata": {},
   "outputs": [],
   "source": []
  }
 ]
}