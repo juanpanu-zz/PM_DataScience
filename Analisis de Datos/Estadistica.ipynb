{
 "metadata": {
  "language_info": {
   "codemirror_mode": {
    "name": "ipython",
    "version": 3
   },
   "file_extension": ".py",
   "mimetype": "text/x-python",
   "name": "python",
   "nbconvert_exporter": "python",
   "pygments_lexer": "ipython3",
   "version": 3
  },
  "orig_nbformat": 2,
  "kernelspec": {
   "name": "python_defaultSpec_1597185472257",
   "display_name": "Python 3.8.4 64-bit"
  }
 },
 "nbformat": 4,
 "nbformat_minor": 2,
 "cells": [
  {
   "cell_type": "code",
   "execution_count": 18,
   "metadata": {},
   "outputs": [],
   "source": [
    "import numpy as np\n",
    "import datetime\n",
    "from datetime import date"
   ]
  },
  {
   "cell_type": "code",
   "execution_count": 19,
   "metadata": {},
   "outputs": [],
   "source": [
    "universo = ['cara','sello']\n",
    "p_cara = 1/2"
   ]
  },
  {
   "cell_type": "code",
   "execution_count": 20,
   "metadata": {},
   "outputs": [
    {
     "output_type": "execute_result",
     "data": {
      "text/plain": "5"
     },
     "metadata": {},
     "execution_count": 20
    }
   ],
   "source": [
    "from scipy.stats import bernoulli\n",
    "bernoulli.rvs (p=p_cara)\n",
    "bernoulli.rvs(p=p_cara,size=10)\n",
    "sum(bernoulli.rvs(p=p_cara,size =10))\n"
   ]
  },
  {
   "cell_type": "code",
   "execution_count": 30,
   "metadata": {},
   "outputs": [],
   "source": [
    "import scipy\n",
    "from scipy.stats import binom\n"
   ]
  },
  {
   "cell_type": "code",
   "execution_count": 22,
   "metadata": {},
   "outputs": [
    {
     "output_type": "execute_result",
     "data": {
      "text/plain": "array([3, 4, 6, 4, 5, 6, 4, 7, 6, 5, 6, 7, 6, 4, 6, 4, 5, 6, 4, 6, 4, 7,\n       6, 5, 5, 5, 5, 5, 5, 8, 7, 6, 9, 6, 4, 2, 8, 5, 3, 7, 4, 6, 6, 6,\n       3, 6, 4, 9, 5, 2, 2, 7, 5, 5, 3, 6, 5, 1, 2, 6, 4, 3, 4, 5, 5, 3,\n       7, 5, 7, 4, 5, 5, 7, 6, 5, 5, 3, 4, 7, 8, 6, 2, 5, 3, 4, 5, 4, 4,\n       6, 7, 8, 3, 4, 5, 6, 5, 8, 8, 7, 6])"
     },
     "metadata": {},
     "execution_count": 22
    }
   ],
   "source": [
    "binom.rvs(p=p_cara,n =10,size=100)"
   ]
  },
  {
   "cell_type": "code",
   "execution_count": 23,
   "metadata": {},
   "outputs": [
    {
     "output_type": "execute_result",
     "data": {
      "text/plain": "5    0.24\n4    0.20\n6    0.18\n7    0.13\n3    0.12\n2    0.07\n8    0.05\n1    0.01\ndtype: float64"
     },
     "metadata": {},
     "execution_count": 23
    }
   ],
   "source": [
    "import pandas as pd \n",
    "pd.Series(binom.rvs(p=p_cara,n =10,size=100)).value_counts()/100"
   ]
  },
  {
   "cell_type": "markdown",
   "metadata": {},
   "source": [
    "Medidas de tendencia central"
   ]
  },
  {
   "cell_type": "code",
   "execution_count": 24,
   "metadata": {},
   "outputs": [
    {
     "output_type": "execute_result",
     "data": {
      "text/plain": "Index(['fecha', 'bicis-compartidas', 'temp-obs', 'sens-temp', 'hum', 'viento',\n       'codigo-clima', 'festivo', 'findesemana', 'cuartil-ano'],\n      dtype='object')"
     },
     "metadata": {},
     "execution_count": 24
    }
   ],
   "source": [
    "df = pd.read_csv ('bicicletas-compartidas.csv')\n",
    "df.columns"
   ]
  },
  {
   "cell_type": "code",
   "execution_count": 25,
   "metadata": {},
   "outputs": [],
   "source": [
    "y= df['bicis-compartidas'].values\n",
    "y=np.where(y==0,1,y)"
   ]
  },
  {
   "cell_type": "code",
   "execution_count": 26,
   "metadata": {},
   "outputs": [
    {
     "output_type": "execute_result",
     "data": {
      "text/plain": "1"
     },
     "metadata": {},
     "execution_count": 26
    }
   ],
   "source": [
    "np.min(y)"
   ]
  },
  {
   "cell_type": "code",
   "execution_count": 27,
   "metadata": {},
   "outputs": [
    {
     "output_type": "execute_result",
     "data": {
      "text/plain": "7860"
     },
     "metadata": {},
     "execution_count": 27
    }
   ],
   "source": [
    "np.max(y)"
   ]
  },
  {
   "cell_type": "markdown",
   "metadata": {},
   "source": [
    "#promedio"
   ]
  },
  {
   "cell_type": "code",
   "execution_count": 28,
   "metadata": {},
   "outputs": [
    {
     "output_type": "execute_result",
     "data": {
      "text/plain": "1143.1016997817849"
     },
     "metadata": {},
     "execution_count": 28
    }
   ],
   "source": [
    "np.mean(y)\n"
   ]
  },
  {
   "cell_type": "code",
   "execution_count": 31,
   "metadata": {},
   "outputs": [
    {
     "output_type": "execute_result",
     "data": {
      "text/plain": "241.65180305136826"
     },
     "metadata": {},
     "execution_count": 31
    }
   ],
   "source": [
    "scipy.stats.mstats.hmean(y) # Media Armonica"
   ]
  },
  {
   "cell_type": "code",
   "execution_count": 32,
   "metadata": {},
   "outputs": [
    {
     "output_type": "execute_result",
     "data": {
      "text/plain": "844.0"
     },
     "metadata": {},
     "execution_count": 32
    }
   ],
   "source": [
    "np.median(y) #mediana"
   ]
  },
  {
   "cell_type": "code",
   "execution_count": 37,
   "metadata": {},
   "outputs": [
    {
     "output_type": "execute_result",
     "data": {
      "text/plain": "46"
     },
     "metadata": {},
     "execution_count": 37
    }
   ],
   "source": [
    "#moda es eñ vañpr de y con maxima frecuencia\n",
    "\n",
    "valores,conteo_valores = np.unique(y,return_counts=True)\n",
    "pos = np.argmax(conteo_valores)\n",
    "moda = valores[pos]  ##np.max(conteo_valores)\n",
    "moda"
   ]
  },
  {
   "cell_type": "code",
   "execution_count": 38,
   "metadata": {},
   "outputs": [
    {
     "output_type": "execute_result",
     "data": {
      "text/plain": "1085.0768508213835"
     },
     "metadata": {},
     "execution_count": 38
    }
   ],
   "source": [
    "#Desviación estandar\n",
    "np.std(y)"
   ]
  },
  {
   "cell_type": "markdown",
   "metadata": {},
   "source": [
    "Revisiones"
   ]
  },
  {
   "cell_type": "code",
   "execution_count": 40,
   "metadata": {},
   "outputs": [],
   "source": [
    "y_alterado = y.copy()\n",
    "y_alterado[y_alterado == max(y_alterado)]=1000000"
   ]
  },
  {
   "cell_type": "code",
   "execution_count": 41,
   "metadata": {
    "tags": []
   },
   "outputs": [
    {
     "output_type": "stream",
     "name": "stdout",
     "text": "1143.1016997817849\n1148.392844837487\n"
    }
   ],
   "source": [
    "#Alteracion de las medidas de tendencia central\n",
    "print(np.mean(y))\n",
    "print(np.mean(y_alterado))"
   ]
  },
  {
   "cell_type": "code",
   "execution_count": 42,
   "metadata": {
    "tags": []
   },
   "outputs": [
    {
     "output_type": "stream",
     "name": "stdout",
     "text": "844.0\n844.0\n"
    }
   ],
   "source": [
    "print(np.median(y))\n",
    "print(np.median(y_alterado))"
   ]
  },
  {
   "cell_type": "code",
   "execution_count": null,
   "metadata": {},
   "outputs": [],
   "source": []
  }
 ]
}